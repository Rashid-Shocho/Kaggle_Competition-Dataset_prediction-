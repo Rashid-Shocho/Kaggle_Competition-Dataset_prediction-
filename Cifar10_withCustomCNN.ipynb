{
  "nbformat": 4,
  "nbformat_minor": 0,
  "metadata": {
    "colab": {
      "provenance": [],
      "gpuType": "T4"
    },
    "kernelspec": {
      "name": "python3",
      "display_name": "Python 3"
    },
    "language_info": {
      "name": "python"
    },
    "accelerator": "GPU"
  },
  "cells": [
    {
      "cell_type": "markdown",
      "source": [
        "#Loading dependencies"
      ],
      "metadata": {
        "id": "qUBbKxIOEHxW"
      }
    },
    {
      "cell_type": "code",
      "source": [
        "import numpy as np\n",
        "from tensorflow import keras\n",
        "from tensorflow.keras import layers, models\n",
        "import sklearn\n",
        "from sklearn.linear_model import LogisticRegression\n",
        "from sklearn.model_selection import train_test_split, GridSearchCV\n",
        "from sklearn.utils.class_weight import compute_class_weight\n",
        "from sklearn.metrics import classification_report, accuracy_score\n",
        "import matplotlib.pyplot as plt\n",
        "import pandas as pd\n",
        "import torch\n",
        "import torch.nn as nn\n",
        "import torch.nn.functional as F\n",
        "import random\n",
        "import skimage\n",
        "from torch.utils.data import TensorDataset, DataLoader\n",
        "from sklearn.metrics import confusion_matrix, classification_report\n",
        "import matplotlib.pyplot as plt\n",
        "import seaborn as sns\n",
        "\n"
      ],
      "metadata": {
        "id": "_XqDjPoJEHQz"
      },
      "execution_count": null,
      "outputs": []
    },
    {
      "cell_type": "markdown",
      "source": [
        "#Loading dataset"
      ],
      "metadata": {
        "id": "1spTeOkGPY7w"
      }
    },
    {
      "cell_type": "code",
      "source": [
        "id = 22101916\n",
        "\n",
        "(x_train, y_train), (x_test, y_test) = keras.datasets.cifar10.load_data()\n",
        "\n",
        "x_train, y_train = sklearn.utils.resample(x_train, y_train, replace = False, n_samples = 5000, random_state = id, stratify = y_train)\n",
        "x_test, y_test = sklearn.utils.resample(x_test, y_test, replace = False, n_samples = 1000, random_state = id, stratify = y_train)"
      ],
      "metadata": {
        "id": "Qr-Otwz8EvRH"
      },
      "execution_count": null,
      "outputs": []
    },
    {
      "cell_type": "markdown",
      "source": [
        "#Task 1: Training a logistic regressor [10 Marks]"
      ],
      "metadata": {
        "id": "vq6eQJ8bEAZ7"
      }
    },
    {
      "cell_type": "markdown",
      "source": [
        "###1. Convert the images to grayscale"
      ],
      "metadata": {
        "id": "VTManISXPccm"
      }
    },
    {
      "cell_type": "code",
      "source": [
        "def rgb_to_grayscale(rgb_images):\n",
        "    return np.dot(rgb_images[...,:3], [0.299, 0.587, 0.114])\n",
        "\n",
        "x_train_gray = rgb_to_grayscale(x_train)\n",
        "x_test_gray = rgb_to_grayscale(x_test)\n",
        "\n",
        "print(f\"Original RGB shape: {x_train.shape}\")\n",
        "print(f\"Grayscale shape: {x_train_gray.shape}\")"
      ],
      "metadata": {
        "id": "k5f2Cf_VIeq6",
        "colab": {
          "base_uri": "https://localhost:8080/"
        },
        "outputId": "e1eca43a-3426-4a68-88f2-183ce1e8816d"
      },
      "execution_count": null,
      "outputs": [
        {
          "output_type": "stream",
          "name": "stdout",
          "text": [
            "Original RGB shape: (5000, 32, 32, 3)\n",
            "Grayscale shape: (5000, 32, 32)\n"
          ]
        }
      ]
    },
    {
      "cell_type": "markdown",
      "source": [
        "### 2. Prepare the grayscale images for logistic regressor (reshape and normalize)"
      ],
      "metadata": {
        "id": "OhUfuuFrPm1g"
      }
    },
    {
      "cell_type": "markdown",
      "source": [
        "Use z-score normalization."
      ],
      "metadata": {
        "id": "Vft4Fy_wYTXm"
      }
    },
    {
      "cell_type": "code",
      "source": [
        "\n",
        "x_train_flat = x_train_gray.reshape(x_train_gray.shape[0], -1)\n",
        "x_test_flat = x_test_gray.reshape(x_test_gray.shape[0], -1)\n",
        "mean = np.mean(x_train_flat)\n",
        "std = np.std(x_train_flat)\n",
        "\n",
        "x_train_normalized = (x_train_flat - mean) / std\n",
        "x_test_normalized = (x_test_flat - mean) / std\n",
        "y_train_flat = y_train.flatten()\n",
        "y_test_flat = y_test.flatten()\n",
        "\n",
        "print(f\"Training data shape after reshaping: {x_train_normalized.shape}\")\n",
        "print(f\"Test data shape after reshaping: {x_test_normalized.shape}\")\n",
        "print(f\"Training labels shape: {y_train_flat.shape}\")\n",
        "print(f\"Data mean: {mean:.4f}, std: {std:.4f}\")"
      ],
      "metadata": {
        "id": "NEDttQUgPxBJ",
        "colab": {
          "base_uri": "https://localhost:8080/"
        },
        "outputId": "99b4798d-44d9-45c2-f2f6-7e61a182c4c0"
      },
      "execution_count": null,
      "outputs": [
        {
          "output_type": "stream",
          "name": "stdout",
          "text": [
            "Training data shape after reshaping: (5000, 1024)\n",
            "Test data shape after reshaping: (1000, 1024)\n",
            "Training labels shape: (5000,)\n",
            "Data mean: 123.0976, std: 61.1881\n"
          ]
        }
      ]
    },
    {
      "cell_type": "markdown",
      "source": [
        "###3. Create a validation set (20%)"
      ],
      "metadata": {
        "id": "bpcARCUFPxef"
      }
    },
    {
      "cell_type": "code",
      "source": [
        "x_train_split, x_val_split, y_train_split, y_val_split = train_test_split(\n",
        "    x_train_normalized, y_train_flat,\n",
        "    test_size=0.2,\n",
        "    random_state=id,\n",
        "    stratify=y_train_flat\n",
        ")\n",
        "print(f\"Training set size: {x_train_split.shape[0]}\")\n",
        "print(f\"Validation set size: {x_val_split.shape[0]}\")\n",
        "print(f\"Test set size: {x_test_normalized.shape[0]}\")"
      ],
      "metadata": {
        "id": "xGYGUTJLQY8N",
        "colab": {
          "base_uri": "https://localhost:8080/"
        },
        "outputId": "e188076b-761e-4072-b308-16b2e828b895"
      },
      "execution_count": null,
      "outputs": [
        {
          "output_type": "stream",
          "name": "stdout",
          "text": [
            "Training set size: 4000\n",
            "Validation set size: 1000\n",
            "Test set size: 1000\n"
          ]
        }
      ]
    },
    {
      "cell_type": "markdown",
      "source": [
        "###4. Compute class weights"
      ],
      "metadata": {
        "id": "hG8fGagsTXaM"
      }
    },
    {
      "cell_type": "markdown",
      "source": [
        "Go through this link - https://scikit-learn.org/stable/modules/generated/sklearn.utils.class_weight.compute_class_weight.html"
      ],
      "metadata": {
        "id": "TyiQ4upFTzAI"
      }
    },
    {
      "cell_type": "code",
      "source": [
        "class_weights = compute_class_weight(\n",
        "    class_weight='balanced',\n",
        "    classes=np.unique(y_train_split),\n",
        "    y=y_train_split\n",
        ")\n",
        "\n",
        "class_weight_dict = dict(zip(np.unique(y_train_split), class_weights))\n",
        "\n",
        "print(\"Class weights:\", class_weight_dict)\n",
        "\n",
        "unique, counts = np.unique(y_train_split, return_counts=True)\n",
        "print(\"Class distribution in training set:\")\n",
        "for cls, count in zip(unique, counts):\n",
        "    print(f\"Class {cls}: {count} samples\")"
      ],
      "metadata": {
        "id": "zDq5JrXtTx4n",
        "colab": {
          "base_uri": "https://localhost:8080/"
        },
        "outputId": "26987734-b99a-44d6-83b4-1b3116824ff7"
      },
      "execution_count": null,
      "outputs": [
        {
          "output_type": "stream",
          "name": "stdout",
          "text": [
            "Class weights: {np.uint8(0): np.float64(1.0), np.uint8(1): np.float64(1.0), np.uint8(2): np.float64(1.0), np.uint8(3): np.float64(1.0), np.uint8(4): np.float64(1.0), np.uint8(5): np.float64(1.0), np.uint8(6): np.float64(1.0), np.uint8(7): np.float64(1.0), np.uint8(8): np.float64(1.0), np.uint8(9): np.float64(1.0)}\n",
            "Class distribution in training set:\n",
            "Class 0: 400 samples\n",
            "Class 1: 400 samples\n",
            "Class 2: 400 samples\n",
            "Class 3: 400 samples\n",
            "Class 4: 400 samples\n",
            "Class 5: 400 samples\n",
            "Class 6: 400 samples\n",
            "Class 7: 400 samples\n",
            "Class 8: 400 samples\n",
            "Class 9: 400 samples\n"
          ]
        }
      ]
    },
    {
      "cell_type": "markdown",
      "source": [
        "###5. Run the logistic regressor"
      ],
      "metadata": {
        "id": "SS1CvHnfQZui"
      }
    },
    {
      "cell_type": "markdown",
      "source": [
        "Use L2 regularizer. Find the C hyperparameter value through grid search. Pick the testing values according to your understanding. Use at least 3 test values and at max 5. Use the computed class weights while training your model."
      ],
      "metadata": {
        "id": "KD1xXEEwQgga"
      }
    },
    {
      "cell_type": "code",
      "source": [
        "\n",
        "param_grid = {'C': [0.1, 1.0, 10.0, 100.0]}\n",
        "\n",
        "logistic_model = LogisticRegression(\n",
        "    penalty='l2',\n",
        "    class_weight=class_weight_dict,\n",
        "    random_state=id,\n",
        "    max_iter=1000,\n",
        "    solver='lbfgs' )\n",
        "\n",
        "grid_search = GridSearchCV(\n",
        "    logistic_model,\n",
        "    param_grid,\n",
        "    cv=5,\n",
        "    scoring='accuracy',\n",
        "    n_jobs=-1,\n",
        "    verbose=1\n",
        ")\n",
        "\n",
        "print(\"Performing grid search for optimal C value...\")\n",
        "grid_search.fit(x_train_split, y_train_split)\n",
        "\n",
        "print(f\"Best C value: {grid_search.best_params_['C']}\")\n",
        "print(f\"Best cross-validation score: {grid_search.best_score_:.4f}\")\n",
        "\n",
        "best_logistic_model = grid_search.best_estimator_\n",
        "val_predictions = best_logistic_model.predict(x_val_split)\n",
        "val_accuracy = accuracy_score(y_val_split, val_predictions)\n",
        "print(f\"Validation accuracy: {val_accuracy:.4f}\")"
      ],
      "metadata": {
        "id": "q4zfIE3FQf9U",
        "colab": {
          "base_uri": "https://localhost:8080/"
        },
        "outputId": "3343610c-b40d-414f-b6ee-e8be8e124dfd"
      },
      "execution_count": null,
      "outputs": [
        {
          "output_type": "stream",
          "name": "stdout",
          "text": [
            "Performing grid search for optimal C value...\n",
            "Fitting 5 folds for each of 4 candidates, totalling 20 fits\n",
            "Best C value: 0.1\n",
            "Best cross-validation score: 0.2102\n",
            "Validation accuracy: 0.2200\n"
          ]
        }
      ]
    },
    {
      "cell_type": "markdown",
      "source": [
        "###6. Evaluate the logistic regressor on the test set"
      ],
      "metadata": {
        "id": "eyUigal5RQi7"
      }
    },
    {
      "cell_type": "code",
      "source": [
        "test_predictions = best_logistic_model.predict(x_test_normalized)\n",
        "test_accuracy = accuracy_score(y_test_flat, test_predictions)\n",
        "\n",
        "print(f\"Test accuracy: {test_accuracy:.4f}\")\n",
        "print(\"\\nDetailed classification report:\")\n",
        "print(classification_report(y_test_flat, test_predictions))"
      ],
      "metadata": {
        "id": "NKirV-TORT_e",
        "colab": {
          "base_uri": "https://localhost:8080/"
        },
        "outputId": "c0ef079e-a216-4b73-da8a-fdd9fb0fa404"
      },
      "execution_count": null,
      "outputs": [
        {
          "output_type": "stream",
          "name": "stdout",
          "text": [
            "Test accuracy: 0.1970\n",
            "\n",
            "Detailed classification report:\n",
            "              precision    recall  f1-score   support\n",
            "\n",
            "           0       0.18      0.21      0.19        90\n",
            "           1       0.20      0.20      0.20        90\n",
            "           2       0.20      0.17      0.18       106\n",
            "           3       0.16      0.16      0.16       100\n",
            "           4       0.11      0.13      0.12       103\n",
            "           5       0.16      0.15      0.16       107\n",
            "           6       0.20      0.17      0.18       102\n",
            "           7       0.19      0.20      0.20       106\n",
            "           8       0.24      0.24      0.24        98\n",
            "           9       0.32      0.36      0.34        98\n",
            "\n",
            "    accuracy                           0.20      1000\n",
            "   macro avg       0.20      0.20      0.20      1000\n",
            "weighted avg       0.20      0.20      0.20      1000\n",
            "\n"
          ]
        }
      ]
    },
    {
      "cell_type": "markdown",
      "source": [
        "###7. Write code to pick up a random image from the test set and display it"
      ],
      "metadata": {
        "id": "I1COtQ3Yo5XX"
      }
    },
    {
      "cell_type": "code",
      "source": [
        "\n",
        "random_idx = random.randint(0, len(x_test_gray) - 1)\n",
        "random_image = x_test_gray[random_idx]\n",
        "random_label = y_test_flat[random_idx]\n",
        "plt.figure(figsize=(6, 4))\n",
        "plt.imshow(random_image, cmap='gray')\n",
        "plt.title(f'Random Test Image (Index: {random_idx})')\n",
        "plt.axis('off')\n",
        "plt.show()\n",
        "\n",
        "print(f\"Selected image index: {random_idx}\")\n",
        "print(f\"True label: {random_label}\")"
      ],
      "metadata": {
        "id": "L8HM5Asuo99j",
        "colab": {
          "base_uri": "https://localhost:8080/",
          "height": 402
        },
        "outputId": "5c14b2b2-2049-4a84-d453-d70867ca1d20"
      },
      "execution_count": null,
      "outputs": [
        {
          "output_type": "display_data",
          "data": {
            "text/plain": [
              "<Figure size 600x400 with 1 Axes>"
            ],
            "image/png": "[encoded data removed]"
          },
          "metadata": {}
        },
        {
          "output_type": "stream",
          "name": "stdout",
          "text": [
            "Selected image index: 383\n",
            "True label: 9\n"
          ]
        }
      ]
    },
    {
      "cell_type": "markdown",
      "source": [
        "###8. Print the predicted class vs the original class"
      ],
      "metadata": {
        "id": "6kLNUZtzpC3U"
      }
    },
    {
      "cell_type": "markdown",
      "source": [
        "Do not print out the numerical class. Map it from here - https://keras.io/2/api/datasets/cifar10/"
      ],
      "metadata": {
        "id": "aJb3nHZgo4ZQ"
      }
    },
    {
      "cell_type": "code",
      "source": [
        "cifar10_classes = ['airplane', 'automobile', 'bird', 'cat', 'deer', 'dog', 'frog', 'horse', 'ship', 'truck']\n",
        "\n",
        "random_image_normalized = x_test_normalized[random_idx].reshape(1, -1)\n",
        "predicted_label = best_logistic_model.predict(random_image_normalized)[0]\n",
        "\n",
        "print(f\"Original class: {cifar10_classes[random_label]}\")\n",
        "print(f\"Predicted class: {cifar10_classes[predicted_label]}\")\n",
        "print(f\"Prediction correct: {random_label == predicted_label}\")"
      ],
      "metadata": {
        "id": "hjvYQALUpD3n",
        "colab": {
          "base_uri": "https://localhost:8080/"
        },
        "outputId": "b4949d12-bad5-4755-aa45-fa4d13b62bd9"
      },
      "execution_count": null,
      "outputs": [
        {
          "output_type": "stream",
          "name": "stdout",
          "text": [
            "Original class: truck\n",
            "Predicted class: dog\n",
            "Prediction correct: False\n"
          ]
        }
      ]
    },
    {
      "cell_type": "markdown",
      "source": [
        "#Task 2: Training a convolutional neural network [20 Marks]"
      ],
      "metadata": {
        "id": "xd6ctJcyRa5L"
      }
    },
    {
      "cell_type": "markdown",
      "source": [
        "We will not strictly control how you implement this code. You can use either Tensorflow or PyTorch. However the structure of the network must be -\n",
        "\n",
        "```\n",
        "Input -> Conv1 -> Conv2 -> Conv3 -> Fully Connected 1 -> Fully Connected 2 -> Output\n",
        "```\n",
        "\n",
        "Use activation functions and pooling as you want. Feel free to adjust dimensions as you need. Set the hyperparameters yourself. Use a maximum learning rate of 0.01 and a maximum epoch number of 100. Use AdamW as optimizer.\n",
        "\n",
        "**Try achieving good accuracy. There are marks for that.**"
      ],
      "metadata": {
        "id": "PqvJrLWmRuyL"
      }
    },
    {
      "cell_type": "markdown",
      "source": [
        "###1. Train the model on grayscale images"
      ],
      "metadata": {
        "id": "Eg4e1kUBUCTq"
      }
    },
    {
      "cell_type": "markdown",
      "source": [
        "You do not need to use the validation set. Train on the initial train set. Recalculate the class weights again and pass it to the optimizer function. Normalize the images before processing."
      ],
      "metadata": {
        "id": "zgoBiFcwUF1b"
      }
    },
    {
      "cell_type": "code",
      "source": [
        "x_trainG = skimage.color.rgb2gray(x_train)\n",
        "x_testG = skimage.color.rgb2gray(x_test)\n",
        "class Classifier(nn.Module):\n",
        "  def __init__(self, c_in=1, output_dim=10):\n",
        "    super().__init__()\n",
        "    self.layer1 = nn.Conv2d(c_in, 16, kernel_size=3, padding = 1)\n",
        "    self.pool1  = nn.MaxPool2d(2, 2)\n",
        "    self.layer2 = nn.Conv2d(16, 32, kernel_size=3, padding=1)\n",
        "    self.pool2  = nn.MaxPool2d(2, 2)\n",
        "    self.layer3 = nn.Conv2d(32, 64, kernel_size=3, padding = 1)\n",
        "    self.pool3  = nn.MaxPool2d(2, 2)\n",
        "\n",
        "    self.fc1 = nn.Linear(1024, 128)\n",
        "\n",
        "\n",
        "    self.dropout = nn.Dropout(0.2)\n",
        "    self.fc2 = nn.Linear(128, output_dim)\n",
        "\n",
        "  def forward(self, x):\n",
        "    x = self.pool1(F.relu(self.layer1(x)))\n",
        "    x = self.pool2(F.relu(self.layer2(x)))\n",
        "    x = self.pool3(F.relu(self.layer3(x)))\n",
        "\n",
        "    x = torch.flatten(x, start_dim=1)\n",
        "\n",
        "    x = F.relu(self.fc1(x))\n",
        "    x = self.dropout(x)\n",
        "\n",
        "    x = self.fc2(x)\n",
        "    return x"
      ],
      "metadata": {
        "id": "zF7-vXC1RpRX"
      },
      "execution_count": null,
      "outputs": []
    },
    {
      "cell_type": "code",
      "source": [
        "device = \"cuda\" if torch.cuda.is_available() else \"cpu\""
      ],
      "metadata": {
        "id": "D_5Lt17vrZIa"
      },
      "execution_count": null,
      "outputs": []
    },
    {
      "cell_type": "code",
      "source": [
        "x_trainG = torch.tensor(x_trainG, dtype=torch.float32, device=device)\n",
        "y_train  = torch.tensor(y_train.squeeze(), dtype=torch.long, device=device)\n",
        "x_testG  = torch.tensor(x_testG, dtype=torch.float32, device=device)\n",
        "y_test   = torch.tensor(y_test.squeeze(), dtype=torch.long, device=device)\n",
        "x_trainG = x_trainG.unsqueeze(1)\n",
        "x_testG = x_testG.unsqueeze(1)\n",
        "\n"
      ],
      "metadata": {
        "id": "2PyraE26sITA"
      },
      "execution_count": null,
      "outputs": []
    },
    {
      "cell_type": "code",
      "source": [
        "mean = x_trainG.mean()\n",
        "std = x_trainG.std()\n",
        "x_trainG = (x_trainG - mean) / std\n",
        "x_testG  = (x_testG - mean) / std\n",
        "\n",
        "\n",
        "batch_size = 64\n",
        "train_dataset = TensorDataset(x_trainG, y_train)\n",
        "test_dataset  = TensorDataset(x_testG, y_test)\n",
        "\n",
        "train_loader = DataLoader(train_dataset, batch_size=batch_size, shuffle=True)\n",
        "test_loader  = DataLoader(test_dataset, batch_size=batch_size, shuffle=False)\n",
        "\n",
        "\n",
        "model = Classifier().to(device)\n",
        "criterion = nn.CrossEntropyLoss()\n",
        "optimizer = torch.optim.Adam(model.parameters(), lr=1e-3)\n",
        "\n",
        "\n",
        "epochs = 60\n",
        "for epoch in range(epochs):\n",
        "    model.train()\n",
        "    running_loss = 0.0\n",
        "    correct, total = 0, 0\n",
        "\n",
        "    for inputs, labels in train_loader:\n",
        "\n",
        "        outputs = model(inputs)\n",
        "        loss = criterion(outputs, labels)\n",
        "\n",
        "\n",
        "        optimizer.zero_grad()\n",
        "        loss.backward()\n",
        "        optimizer.step()\n",
        "\n",
        "\n",
        "        running_loss += loss.item() * inputs.size(0)\n",
        "        zx, predicted = torch.max(outputs, 1)\n",
        "        total += labels.size(0)\n",
        "        correct += (predicted == labels).sum().item()\n",
        "\n",
        "    epoch_loss = running_loss / len(train_loader.dataset)\n",
        "    epoch_acc  = correct / total\n",
        "\n",
        "    print(f\"Epoch [{epoch+1}/{epochs}] - \"\n",
        "          f\"Loss: {epoch_loss:.4f} - \"\n",
        "          f\"Acc: {epoch_acc:.4f}\")\n"
      ],
      "metadata": {
        "id": "y17Mhynk0plm",
        "colab": {
          "base_uri": "https://localhost:8080/"
        },
        "outputId": "dacdd810-ca55-46b1-9e3f-a10a5065443a"
      },
      "execution_count": null,
      "outputs": [
        {
          "output_type": "stream",
          "name": "stdout",
          "text": [
            "Epoch [1/60] - Loss: 2.1338 - Acc: 0.2118\n",
            "Epoch [2/60] - Loss: 1.8432 - Acc: 0.3272\n",
            "Epoch [3/60] - Loss: 1.6768 - Acc: 0.3946\n",
            "Epoch [4/60] - Loss: 1.5525 - Acc: 0.4380\n",
            "Epoch [5/60] - Loss: 1.4565 - Acc: 0.4692\n",
            "Epoch [6/60] - Loss: 1.3837 - Acc: 0.5030\n",
            "Epoch [7/60] - Loss: 1.2875 - Acc: 0.5386\n",
            "Epoch [8/60] - Loss: 1.1973 - Acc: 0.5698\n",
            "Epoch [9/60] - Loss: 1.1328 - Acc: 0.5968\n",
            "Epoch [10/60] - Loss: 1.0365 - Acc: 0.6328\n",
            "Epoch [11/60] - Loss: 0.9784 - Acc: 0.6512\n",
            "Epoch [12/60] - Loss: 0.8841 - Acc: 0.6838\n",
            "Epoch [13/60] - Loss: 0.8136 - Acc: 0.7148\n",
            "Epoch [14/60] - Loss: 0.7371 - Acc: 0.7376\n",
            "Epoch [15/60] - Loss: 0.6796 - Acc: 0.7590\n",
            "Epoch [16/60] - Loss: 0.6435 - Acc: 0.7762\n",
            "Epoch [17/60] - Loss: 0.5609 - Acc: 0.8032\n",
            "Epoch [18/60] - Loss: 0.4987 - Acc: 0.8242\n",
            "Epoch [19/60] - Loss: 0.4606 - Acc: 0.8416\n",
            "Epoch [20/60] - Loss: 0.3865 - Acc: 0.8686\n",
            "Epoch [21/60] - Loss: 0.3700 - Acc: 0.8758\n",
            "Epoch [22/60] - Loss: 0.3229 - Acc: 0.8842\n",
            "Epoch [23/60] - Loss: 0.3087 - Acc: 0.8950\n",
            "Epoch [24/60] - Loss: 0.2418 - Acc: 0.9196\n",
            "Epoch [25/60] - Loss: 0.2312 - Acc: 0.9274\n",
            "Epoch [26/60] - Loss: 0.2268 - Acc: 0.9268\n",
            "Epoch [27/60] - Loss: 0.2115 - Acc: 0.9308\n",
            "Epoch [28/60] - Loss: 0.1948 - Acc: 0.9350\n",
            "Epoch [29/60] - Loss: 0.1521 - Acc: 0.9480\n",
            "Epoch [30/60] - Loss: 0.1268 - Acc: 0.9610\n",
            "Epoch [31/60] - Loss: 0.1297 - Acc: 0.9604\n",
            "Epoch [32/60] - Loss: 0.1293 - Acc: 0.9584\n",
            "Epoch [33/60] - Loss: 0.1371 - Acc: 0.9526\n",
            "Epoch [34/60] - Loss: 0.0998 - Acc: 0.9676\n",
            "Epoch [35/60] - Loss: 0.1118 - Acc: 0.9608\n",
            "Epoch [36/60] - Loss: 0.1250 - Acc: 0.9592\n",
            "Epoch [37/60] - Loss: 0.1027 - Acc: 0.9666\n",
            "Epoch [38/60] - Loss: 0.1233 - Acc: 0.9594\n",
            "Epoch [39/60] - Loss: 0.1040 - Acc: 0.9652\n",
            "Epoch [40/60] - Loss: 0.0899 - Acc: 0.9704\n",
            "Epoch [41/60] - Loss: 0.0962 - Acc: 0.9680\n",
            "Epoch [42/60] - Loss: 0.0856 - Acc: 0.9704\n",
            "Epoch [43/60] - Loss: 0.0752 - Acc: 0.9744\n",
            "Epoch [44/60] - Loss: 0.0658 - Acc: 0.9794\n",
            "Epoch [45/60] - Loss: 0.0712 - Acc: 0.9762\n",
            "Epoch [46/60] - Loss: 0.0555 - Acc: 0.9834\n",
            "Epoch [47/60] - Loss: 0.0830 - Acc: 0.9702\n",
            "Epoch [48/60] - Loss: 0.0707 - Acc: 0.9770\n",
            "Epoch [49/60] - Loss: 0.0676 - Acc: 0.9792\n",
            "Epoch [50/60] - Loss: 0.0543 - Acc: 0.9834\n",
            "Epoch [51/60] - Loss: 0.0642 - Acc: 0.9788\n",
            "Epoch [52/60] - Loss: 0.0941 - Acc: 0.9690\n",
            "Epoch [53/60] - Loss: 0.0937 - Acc: 0.9668\n",
            "Epoch [54/60] - Loss: 0.0661 - Acc: 0.9790\n",
            "Epoch [55/60] - Loss: 0.0788 - Acc: 0.9698\n",
            "Epoch [56/60] - Loss: 0.1308 - Acc: 0.9576\n",
            "Epoch [57/60] - Loss: 0.0707 - Acc: 0.9762\n",
            "Epoch [58/60] - Loss: 0.0572 - Acc: 0.9784\n",
            "Epoch [59/60] - Loss: 0.0655 - Acc: 0.9782\n",
            "Epoch [60/60] - Loss: 0.0591 - Acc: 0.9788\n"
          ]
        }
      ]
    },
    {
      "cell_type": "markdown",
      "source": [
        "###2. Evaluate the model on the grayscale test set"
      ],
      "metadata": {
        "id": "QH9S4fLiUMza"
      }
    },
    {
      "cell_type": "code",
      "source": [
        "\n",
        "model.eval()\n",
        "all_preds = []\n",
        "all_labels = []\n",
        "\n",
        "with torch.no_grad():\n",
        "    for inputs, labels in test_loader:\n",
        "        outputs = model(inputs)\n",
        "        ax1, predicted = torch.max(outputs, 1)\n",
        "        all_preds.extend(predicted.cpu().numpy())\n",
        "        all_labels.extend(labels.cpu().numpy())\n",
        "\n",
        "\n",
        "test_acc = (np.array(all_preds) == np.array(all_labels)).mean()\n",
        "print(f\"\\nTest Accuracy: {test_acc:.4f}\")\n",
        "cm = confusion_matrix(all_labels, all_preds)\n",
        "plt.figure(figsize=(8,6))\n",
        "sns.heatmap(cm, annot=True, fmt=\"d\", cmap=\"Blues\")\n",
        "plt.xlabel(\"Predicted\")\n",
        "plt.ylabel(\"True\")\n",
        "plt.title(\"Confusion Matrix\")\n",
        "plt.show()\n",
        "print(\"\\nClassification Report of grey scale image:\")\n",
        "print(classification_report(all_labels, all_preds, digits=4))\n",
        "\n"
      ],
      "metadata": {
        "id": "g7Jwzg6EUQ2x",
        "colab": {
          "base_uri": "https://localhost:8080/",
          "height": 928
        },
        "outputId": "595ca161-70e0-4f8e-9b32-c5b07203ef7c"
      },
      "execution_count": null,
      "outputs": [
        {
          "output_type": "stream",
          "name": "stdout",
          "text": [
            "\n",
            "Test Accuracy: 0.5430\n"
          ]
        },
        {
          "output_type": "display_data",
          "data": {
            "text/plain": [
              "<Figure size 800x600 with 2 Axes>"
            ],
            "image/png": "[encoded data removed]"
          },
          "metadata": {}
        },
        {
          "output_type": "stream",
          "name": "stdout",
          "text": [
            "\n",
            "Classification Report of grey scale image:\n",
            "              precision    recall  f1-score   support\n",
            "\n",
            "           0     0.5684    0.6000    0.5838        90\n",
            "           1     0.6905    0.6444    0.6667        90\n",
            "           2     0.5056    0.4245    0.4615       106\n",
            "           3     0.3542    0.3400    0.3469       100\n",
            "           4     0.4274    0.5146    0.4670       103\n",
            "           5     0.4722    0.4766    0.4744       107\n",
            "           6     0.5484    0.6667    0.6018       102\n",
            "           7     0.6517    0.5472    0.5949       106\n",
            "           8     0.6170    0.5918    0.6042        98\n",
            "           9     0.6598    0.6531    0.6564        98\n",
            "\n",
            "    accuracy                         0.5430      1000\n",
            "   macro avg     0.5495    0.5459    0.5458      1000\n",
            "weighted avg     0.5470    0.5430    0.5430      1000\n",
            "\n"
          ]
        }
      ]
    },
    {
      "cell_type": "markdown",
      "source": [
        "###3. Write code to pick up a random image from the test set and display it"
      ],
      "metadata": {
        "id": "5Wvna5JKokP8"
      }
    },
    {
      "cell_type": "code",
      "source": [
        "\n",
        "random_image = random.randint(0, len(x_test) - 1)\n",
        "x_testGrey = skimage.color.rgb2gray(x_test)\n",
        "plt.imshow(x_testGrey[random_image], cmap='gray')\n",
        "plt.title(f\"The image index is {random_image}\")\n",
        "plt.show()"
      ],
      "metadata": {
        "id": "BIqJEI77olBD",
        "colab": {
          "base_uri": "https://localhost:8080/",
          "height": 452
        },
        "outputId": "f24c3aec-cccb-400c-912c-f2b55fc16f49"
      },
      "execution_count": null,
      "outputs": [
        {
          "output_type": "display_data",
          "data": {
            "text/plain": [
              "<Figure size 640x480 with 1 Axes>"
            ],
            "image/png": "[encoded data removed]"
          },
          "metadata": {}
        }
      ]
    },
    {
      "cell_type": "markdown",
      "source": [
        "###4. Print the predicted class vs the original class"
      ],
      "metadata": {
        "id": "_HRX0XOwoode"
      }
    },
    {
      "cell_type": "markdown",
      "source": [],
      "metadata": {
        "id": "6bHqZnQEUA3K"
      }
    },
    {
      "cell_type": "code",
      "source": [
        "\n",
        "class_names = ['airplane', 'automobile', 'bird', 'cat', 'deer', 'dog', 'frog', 'horse', 'ship', 'truck']\n",
        "true_class = class_names[y_test[random_image].item()]\n",
        "\n",
        "model.eval()\n",
        "with torch.no_grad():\n",
        "    input_image = x_testG[random_image].unsqueeze(0)\n",
        "    outputs = model(input_image)\n",
        "    ax2, predicted = torch.max(outputs, 1)\n",
        "    predicted_class = class_names[predicted.item()]\n",
        "\n",
        "print(f\"True class: {true_class}\")\n",
        "print(f\"Predicted class (Grayscale model): {predicted_class}\")"
      ],
      "metadata": {
        "colab": {
          "base_uri": "https://localhost:8080/"
        },
        "id": "VLC5MilEPw5F",
        "outputId": "760ae711-daeb-48c6-925e-ff304a6da5aa"
      },
      "execution_count": null,
      "outputs": [
        {
          "output_type": "stream",
          "name": "stdout",
          "text": [
            "True class: ship\n",
            "Predicted class (Grayscale model): ship\n"
          ]
        }
      ]
    },
    {
      "cell_type": "markdown",
      "source": [
        "###5. Train the model on the RGB images"
      ],
      "metadata": {
        "id": "BvO11goFURbC"
      }
    },
    {
      "cell_type": "markdown",
      "source": [
        "Keep the model same."
      ],
      "metadata": {
        "id": "3vGs-tpwUpOc"
      }
    },
    {
      "cell_type": "code",
      "source": [
        "class ClassifierRGB(nn.Module):\n",
        "  def __init__(self, c_in=3, output_dim=10):\n",
        "    super().__init__()\n",
        "    self.layer1 = nn.Conv2d(c_in, 16, kernel_size=3, padding = 1)\n",
        "    self.pool1  = nn.MaxPool2d(2, 2)\n",
        "    self.layer2 = nn.Conv2d(16, 32, kernel_size=3, padding=1)\n",
        "    self.pool2  = nn.MaxPool2d(2, 2)\n",
        "    self.layer3 = nn.Conv2d(32, 64, kernel_size=3, padding = 1)\n",
        "    self.pool3  = nn.MaxPool2d(2, 2)\n",
        "\n",
        "    self.fc1 = nn.Linear(1024, 128)\n",
        "    self.dropout = nn.Dropout(0.2)\n",
        "    self.fc2 = nn.Linear(128, output_dim)\n",
        "\n",
        "  def forward(self, x):\n",
        "    x = self.pool1(F.relu(self.layer1(x)))\n",
        "    x = self.pool2(F.relu(self.layer2(x)))\n",
        "    x = self.pool3(F.relu(self.layer3(x)))\n",
        "\n",
        "    x = torch.flatten(x, start_dim=1)\n",
        "\n",
        "    x = F.relu(self.fc1(x))\n",
        "    x = self.dropout(x)\n",
        "\n",
        "    x = self.fc2(x)\n",
        "    return x"
      ],
      "metadata": {
        "id": "fb3Cbv_tUlkK"
      },
      "execution_count": null,
      "outputs": []
    },
    {
      "cell_type": "code",
      "source": [
        "mean = x_train.mean()\n",
        "std = x_train.std()\n",
        "x_trainN = (x_train - mean) / std\n",
        "x_testN  = (x_test - mean) / std\n"
      ],
      "metadata": {
        "id": "k3jTuaVdZ2s1"
      },
      "execution_count": null,
      "outputs": []
    },
    {
      "cell_type": "code",
      "source": [
        "\n",
        "x_train_rgb = torch.tensor(x_trainN, dtype=torch.float32, device=device).permute(0, 3, 1, 2)\n",
        "x_test_rgb  = torch.tensor(x_testN, dtype=torch.float32, device=device).permute(0, 3, 1, 2)\n",
        "y_train     = torch.tensor(y_train.squeeze(), dtype=torch.long, device=device)\n",
        "y_test      = torch.tensor(y_test.squeeze(), dtype=torch.long, device=device)\n",
        "\n",
        "\n",
        "batch_size = 64\n",
        "train_dataset = TensorDataset(x_train_rgb, y_train)\n",
        "test_dataset  = TensorDataset(x_test_rgb, y_test)\n",
        "train_loader = DataLoader(train_dataset, batch_size=batch_size, shuffle=True)\n",
        "test_loader  = DataLoader(test_dataset, batch_size=batch_size, shuffle=False)\n",
        "\n",
        "modelRGB = ClassifierRGB(c_in=3).to(device)\n",
        "criterion = nn.CrossEntropyLoss()\n",
        "optimizer = torch.optim.Adam(modelRGB.parameters(), lr=1e-3)\n",
        "epochs = 60\n",
        "for epoch in range(epochs):\n",
        "    modelRGB.train()\n",
        "    running_loss = 0.0\n",
        "    correct, total = 0, 0\n",
        "\n",
        "    for inputs, labels in train_loader:\n",
        "        outputs = modelRGB(inputs)\n",
        "        loss = criterion(outputs, labels)\n",
        "        optimizer.zero_grad()\n",
        "        loss.backward()\n",
        "        optimizer.step()\n",
        "        running_loss += loss.item() * inputs.size(0)\n",
        "        zx, predicted = torch.max(outputs, 1)\n",
        "        total += labels.size(0)\n",
        "        correct += (predicted == labels).sum().item()\n",
        "\n",
        "    epoch_loss = running_loss / len(train_loader.dataset)\n",
        "    epoch_acc  = correct / total\n",
        "\n",
        "    print(f\"Epoch [{epoch+1}/{epochs}] - \"\n",
        "          f\"Loss: {epoch_loss:.4f} - \"\n",
        "          f\"Acc: {epoch_acc:.4f}\")\n"
      ],
      "metadata": {
        "colab": {
          "base_uri": "https://localhost:8080/"
        },
        "id": "MbxSibV3XoD0",
        "outputId": "7c5af73b-25fd-4c91-a42c-7336f3cd7f61"
      },
      "execution_count": null,
      "outputs": [
        {
          "output_type": "stream",
          "name": "stderr",
          "text": [
            "/tmp/ipython-input-3976977915.py:3: UserWarning: To copy construct from a tensor, it is recommended to use sourceTensor.detach().clone() or sourceTensor.detach().clone().requires_grad_(True), rather than torch.tensor(sourceTensor).\n",
            "  y_train     = torch.tensor(y_train.squeeze(), dtype=torch.long, device=device)\n",
            "/tmp/ipython-input-3976977915.py:4: UserWarning: To copy construct from a tensor, it is recommended to use sourceTensor.detach().clone() or sourceTensor.detach().clone().requires_grad_(True), rather than torch.tensor(sourceTensor).\n",
            "  y_test      = torch.tensor(y_test.squeeze(), dtype=torch.long, device=device)\n"
          ]
        },
        {
          "output_type": "stream",
          "name": "stdout",
          "text": [
            "Epoch [1/60] - Loss: 2.0576 - Acc: 0.2352\n",
            "Epoch [2/60] - Loss: 1.7517 - Acc: 0.3578\n",
            "Epoch [3/60] - Loss: 1.5866 - Acc: 0.4214\n",
            "Epoch [4/60] - Loss: 1.4722 - Acc: 0.4692\n",
            "Epoch [5/60] - Loss: 1.3929 - Acc: 0.5004\n",
            "Epoch [6/60] - Loss: 1.3094 - Acc: 0.5288\n",
            "Epoch [7/60] - Loss: 1.2420 - Acc: 0.5504\n",
            "Epoch [8/60] - Loss: 1.1807 - Acc: 0.5718\n",
            "Epoch [9/60] - Loss: 1.1324 - Acc: 0.5928\n",
            "Epoch [10/60] - Loss: 1.0642 - Acc: 0.6134\n",
            "Epoch [11/60] - Loss: 0.9969 - Acc: 0.6426\n",
            "Epoch [12/60] - Loss: 0.9338 - Acc: 0.6662\n",
            "Epoch [13/60] - Loss: 0.8742 - Acc: 0.6916\n",
            "Epoch [14/60] - Loss: 0.8056 - Acc: 0.7084\n",
            "Epoch [15/60] - Loss: 0.7490 - Acc: 0.7288\n",
            "Epoch [16/60] - Loss: 0.7042 - Acc: 0.7446\n",
            "Epoch [17/60] - Loss: 0.6217 - Acc: 0.7840\n",
            "Epoch [18/60] - Loss: 0.5576 - Acc: 0.8036\n",
            "Epoch [19/60] - Loss: 0.5186 - Acc: 0.8184\n",
            "Epoch [20/60] - Loss: 0.4505 - Acc: 0.8458\n",
            "Epoch [21/60] - Loss: 0.4256 - Acc: 0.8524\n",
            "Epoch [22/60] - Loss: 0.3917 - Acc: 0.8606\n",
            "Epoch [23/60] - Loss: 0.3425 - Acc: 0.8816\n",
            "Epoch [24/60] - Loss: 0.2910 - Acc: 0.8968\n",
            "Epoch [25/60] - Loss: 0.2884 - Acc: 0.8984\n",
            "Epoch [26/60] - Loss: 0.2497 - Acc: 0.9104\n",
            "Epoch [27/60] - Loss: 0.2822 - Acc: 0.8978\n",
            "Epoch [28/60] - Loss: 0.2213 - Acc: 0.9244\n",
            "Epoch [29/60] - Loss: 0.1832 - Acc: 0.9410\n",
            "Epoch [30/60] - Loss: 0.1798 - Acc: 0.9390\n",
            "Epoch [31/60] - Loss: 0.1682 - Acc: 0.9428\n",
            "Epoch [32/60] - Loss: 0.1677 - Acc: 0.9434\n",
            "Epoch [33/60] - Loss: 0.1394 - Acc: 0.9524\n",
            "Epoch [34/60] - Loss: 0.1207 - Acc: 0.9600\n",
            "Epoch [35/60] - Loss: 0.1348 - Acc: 0.9548\n",
            "Epoch [36/60] - Loss: 0.1285 - Acc: 0.9548\n",
            "Epoch [37/60] - Loss: 0.1437 - Acc: 0.9520\n",
            "Epoch [38/60] - Loss: 0.1234 - Acc: 0.9608\n",
            "Epoch [39/60] - Loss: 0.1143 - Acc: 0.9610\n",
            "Epoch [40/60] - Loss: 0.0991 - Acc: 0.9678\n",
            "Epoch [41/60] - Loss: 0.1293 - Acc: 0.9568\n",
            "Epoch [42/60] - Loss: 0.1567 - Acc: 0.9456\n",
            "Epoch [43/60] - Loss: 0.1046 - Acc: 0.9670\n",
            "Epoch [44/60] - Loss: 0.0767 - Acc: 0.9758\n",
            "Epoch [45/60] - Loss: 0.0861 - Acc: 0.9724\n",
            "Epoch [46/60] - Loss: 0.1104 - Acc: 0.9620\n",
            "Epoch [47/60] - Loss: 0.1093 - Acc: 0.9600\n",
            "Epoch [48/60] - Loss: 0.0805 - Acc: 0.9706\n",
            "Epoch [49/60] - Loss: 0.0661 - Acc: 0.9762\n",
            "Epoch [50/60] - Loss: 0.0749 - Acc: 0.9736\n",
            "Epoch [51/60] - Loss: 0.0654 - Acc: 0.9772\n",
            "Epoch [52/60] - Loss: 0.0948 - Acc: 0.9654\n",
            "Epoch [53/60] - Loss: 0.0709 - Acc: 0.9768\n",
            "Epoch [54/60] - Loss: 0.0827 - Acc: 0.9744\n",
            "Epoch [55/60] - Loss: 0.0688 - Acc: 0.9768\n",
            "Epoch [56/60] - Loss: 0.1406 - Acc: 0.9528\n",
            "Epoch [57/60] - Loss: 0.0809 - Acc: 0.9696\n",
            "Epoch [58/60] - Loss: 0.0644 - Acc: 0.9774\n",
            "Epoch [59/60] - Loss: 0.0646 - Acc: 0.9798\n",
            "Epoch [60/60] - Loss: 0.0691 - Acc: 0.9770\n"
          ]
        }
      ]
    },
    {
      "cell_type": "markdown",
      "source": [
        "###6. Evaluate the model on the RGB images"
      ],
      "metadata": {
        "id": "W9DM5SjbUmMl"
      }
    },
    {
      "cell_type": "code",
      "source": [
        "modelRGB.eval()\n",
        "all_preds = []\n",
        "all_labels = []\n",
        "\n",
        "with torch.no_grad():\n",
        "    for inputs, labels in test_loader:\n",
        "        outputs = modelRGB(inputs)\n",
        "        ax3, predicted = torch.max(outputs, 1)\n",
        "        all_preds.extend(predicted.cpu().numpy())\n",
        "        all_labels.extend(labels.cpu().numpy())\n",
        "\n",
        "\n",
        "test_acc = (np.array(all_preds) == np.array(all_labels)).mean()\n",
        "print(f\"\\nTest Accuracy: {test_acc:.4f}\")\n",
        "cm = confusion_matrix(all_labels, all_preds)\n",
        "plt.figure(figsize=(8,6))\n",
        "sns.heatmap(cm, annot=True, fmt=\"d\", cmap=\"Blues\")\n",
        "plt.xlabel(\"Predicted\")\n",
        "plt.ylabel(\"True\")\n",
        "plt.title(\"Confusion Matrix\")\n",
        "plt.show()\n",
        "print(\"\\nClassification Report of RGB image:\")\n",
        "print(classification_report(all_labels, all_preds, digits=4))"
      ],
      "metadata": {
        "id": "rHlOvimGUoxe",
        "colab": {
          "base_uri": "https://localhost:8080/",
          "height": 928
        },
        "outputId": "44ecbcbd-af38-4c40-c11f-b6fb9e9d6b22"
      },
      "execution_count": null,
      "outputs": [
        {
          "output_type": "stream",
          "name": "stdout",
          "text": [
            "\n",
            "Test Accuracy: 0.5420\n"
          ]
        },
        {
          "output_type": "display_data",
          "data": {
            "text/plain": [
              "<Figure size 800x600 with 2 Axes>"
            ],
            "image/png": "[encoded data removed]"
          },
          "metadata": {}
        },
        {
          "output_type": "stream",
          "name": "stdout",
          "text": [
            "\n",
            "Classification Report of RGB image:\n",
            "              precision    recall  f1-score   support\n",
            "\n",
            "           0     0.5814    0.5556    0.5682        90\n",
            "           1     0.6200    0.6889    0.6526        90\n",
            "           2     0.4070    0.3302    0.3646       106\n",
            "           3     0.3194    0.2300    0.2674       100\n",
            "           4     0.4486    0.4660    0.4571       103\n",
            "           5     0.4660    0.4486    0.4571       107\n",
            "           6     0.5099    0.7549    0.6087       102\n",
            "           7     0.6635    0.6509    0.6571       106\n",
            "           8     0.6569    0.6837    0.6700        98\n",
            "           9     0.7079    0.6429    0.6738        98\n",
            "\n",
            "    accuracy                         0.5420      1000\n",
            "   macro avg     0.5381    0.5452    0.5377      1000\n",
            "weighted avg     0.5354    0.5420    0.5347      1000\n",
            "\n"
          ]
        }
      ]
    },
    {
      "cell_type": "markdown",
      "source": [
        "###7. Write code to pick up a random image from the test set and display it"
      ],
      "metadata": {
        "id": "zXUSCL9GWHcx"
      }
    },
    {
      "cell_type": "code",
      "source": [
        "random_imageRGB = random.randint(0, len(x_test) - 1)\n",
        "plt.imshow(x_test[random_imageRGB])\n",
        "plt.title(f\"The image index is {random_imageRGB}\")\n",
        "plt.show()"
      ],
      "metadata": {
        "id": "X1rplFeGWTyi",
        "colab": {
          "base_uri": "https://localhost:8080/",
          "height": 452
        },
        "outputId": "3d256c1f-f03a-4697-e341-2853ab536483"
      },
      "execution_count": null,
      "outputs": [
        {
          "output_type": "display_data",
          "data": {
            "text/plain": [
              "<Figure size 640x480 with 1 Axes>"
            ],
            "image/png": "[encoded data removed]"
          },
          "metadata": {}
        }
      ]
    },
    {
      "cell_type": "markdown",
      "source": [
        "###8. Print the predicted class vs the original class"
      ],
      "metadata": {
        "id": "AEC37E2CWSsp"
      }
    },
    {
      "cell_type": "code",
      "source": [
        "class_names = ['airplane', 'automobile', 'bird', 'cat', 'deer', 'dog', 'frog', 'horse', 'ship', 'truck']\n",
        "\n",
        "true_class = class_names[y_test[random_imageRGB].item()]\n",
        "modelRGB.eval()\n",
        "with torch.no_grad():\n",
        "    input_image = x_test_rgb[random_imageRGB].unsqueeze(0)\n",
        "    outputs = modelRGB(input_image)\n",
        "    ax4, predicted = torch.max(outputs, 1)\n",
        "    predicted_class = class_names[predicted.item()]\n",
        "\n",
        "print(f\"True class: {true_class}\")\n",
        "print(f\"Predicted class (RGB model): {predicted_class}\")"
      ],
      "metadata": {
        "id": "xkSJ2IvDWjKh",
        "colab": {
          "base_uri": "https://localhost:8080/"
        },
        "outputId": "662860e3-fb5d-4d39-9514-9250f6ccce10"
      },
      "execution_count": null,
      "outputs": [
        {
          "output_type": "stream",
          "name": "stdout",
          "text": [
            "True class: ship\n",
            "Predicted class (RGB model): airplane\n"
          ]
        }
      ]
    },
    {
      "cell_type": "markdown",
      "source": [
        "###9. Add one more conv layer and check if it increases the performance for the RGB images"
      ],
      "metadata": {
        "id": "Pk-B9vNdpG6a"
      }
    },
    {
      "cell_type": "code",
      "source": [
        "class ClassifierRGBL(nn.Module):\n",
        "  def __init__(self, c_in=3, output_dim=10):\n",
        "    super().__init__()\n",
        "    self.layer1 = nn.Conv2d(c_in, 16, kernel_size=3, padding = 1)\n",
        "    self.pool1  = nn.MaxPool2d(2, 2)\n",
        "    self.layer2 = nn.Conv2d(16, 32, kernel_size=3, padding=1)\n",
        "    self.pool2  = nn.MaxPool2d(2, 2)\n",
        "    self.layer3 = nn.Conv2d(32, 64, kernel_size=3, padding = 1)\n",
        "    self.pool3  = nn.MaxPool2d(2, 2)\n",
        "\n",
        "    self.layer4 = nn.Conv2d(64, 128, kernel_size=3, padding = 1)\n",
        "    self.pool4  = nn.MaxPool2d(2, 2)\n",
        "\n",
        "    self.fc1 = nn.Linear(512, 128)\n",
        "    self.dropout = nn.Dropout(0.2)\n",
        "    self.fc2 = nn.Linear(128, output_dim)\n",
        "\n",
        "  def forward(self, x):\n",
        "    x = self.pool1(F.relu(self.layer1(x)))\n",
        "    x = self.pool2(F.relu(self.layer2(x)))\n",
        "    x = self.pool3(F.relu(self.layer3(x)))\n",
        "    x = self.pool4(F.relu(self.layer4(x)))\n",
        "\n",
        "    x = torch.flatten(x, start_dim=1)\n",
        "\n",
        "    x = F.relu(self.fc1(x))\n",
        "    x = self.dropout(x)\n",
        "\n",
        "    x = self.fc2(x)\n",
        "    return x"
      ],
      "metadata": {
        "id": "k6RDr59DpvCY"
      },
      "execution_count": null,
      "outputs": []
    },
    {
      "cell_type": "code",
      "source": [
        "mean = x_train.mean()\n",
        "std = x_train.std()\n",
        "x_trainE = (x_train - mean) / std\n",
        "x_testE  = (x_test - mean) / std"
      ],
      "metadata": {
        "id": "Vp-7FRmMGXYK"
      },
      "execution_count": null,
      "outputs": []
    },
    {
      "cell_type": "code",
      "source": [
        "\n",
        "x_train_rgb = torch.tensor(x_trainE, dtype=torch.float32, device=device).permute(0, 3, 1, 2)\n",
        "x_test_rgb  = torch.tensor(x_testE, dtype=torch.float32, device=device).permute(0, 3, 1, 2)\n",
        "y_train     = torch.tensor(y_train.squeeze(), dtype=torch.long, device=device)\n",
        "y_test      = torch.tensor(y_test.squeeze(), dtype=torch.long, device=device)\n",
        "batch_size = 64\n",
        "train_dataset = TensorDataset(x_train_rgb, y_train)\n",
        "test_dataset  = TensorDataset(x_test_rgb, y_test)\n",
        "\n",
        "train_loader = DataLoader(train_dataset, batch_size=batch_size, shuffle=True)\n",
        "test_loader  = DataLoader(test_dataset, batch_size=batch_size, shuffle=False)\n",
        "modelRGBL = ClassifierRGBL(c_in=3).to(device)\n",
        "criterion = nn.CrossEntropyLoss()\n",
        "optimizer = torch.optim.Adam(modelRGBL.parameters(), lr=1e-3)\n",
        "\n",
        "epochs = 60\n",
        "for epoch in range(epochs):\n",
        "    modelRGBL.train()\n",
        "    running_loss = 0.0\n",
        "    correct, total = 0, 0\n",
        "\n",
        "    for inputs, labels in train_loader:\n",
        "        outputs = modelRGBL(inputs)\n",
        "        loss = criterion(outputs, labels)\n",
        "        optimizer.zero_grad()\n",
        "        loss.backward()\n",
        "        optimizer.step()\n",
        "        running_loss += loss.item() * inputs.size(0)\n",
        "        ax5, predicted = torch.max(outputs, 1)\n",
        "        total += labels.size(0)\n",
        "        correct += (predicted == labels).sum().item()\n",
        "\n",
        "    epoch_loss = running_loss / len(train_loader.dataset)\n",
        "    epoch_acc  = correct / total\n",
        "\n",
        "    print(f\"Epoch [{epoch+1}/{epochs}] - \"\n",
        "          f\"Loss: {epoch_loss:.4f} - \"\n",
        "          f\"Acc: {epoch_acc:.4f}\")\n",
        "\n",
        "modelRGBL.eval()\n",
        "all_preds = []\n",
        "all_labels = []\n",
        "\n",
        "with torch.no_grad():\n",
        "    for inputs, labels in test_loader:\n",
        "        outputs = modelRGBL(inputs)\n",
        "        ax6, predicted = torch.max(outputs, 1)\n",
        "        all_preds.extend(predicted.cpu().numpy())\n",
        "        all_labels.extend(labels.cpu().numpy())\n",
        "test_acc = (np.array(all_preds) == np.array(all_labels)).mean()\n",
        "print(f\"\\nTest Accuracy: {test_acc:.4f}\")\n",
        "cm = confusion_matrix(all_labels, all_preds)\n",
        "plt.figure(figsize=(8,6))\n",
        "sns.heatmap(cm, annot=True, fmt=\"d\", cmap=\"Blues\")\n",
        "plt.xlabel(\"Predicted\")\n",
        "plt.ylabel(\"True\")\n",
        "plt.title(\"Confusion Matrix\")\n",
        "plt.show()\n",
        "print(\"\\nClassification Report of RGB image:\")\n",
        "print(classification_report(all_labels, all_preds, digits=4))\n",
        "\n"
      ],
      "metadata": {
        "colab": {
          "base_uri": "https://localhost:8080/",
          "height": 1000
        },
        "id": "iJ4yWJr19NuO",
        "outputId": "b1b09565-6bfe-45e0-ab80-ae08ac1e02a3"
      },
      "execution_count": null,
      "outputs": [
        {
          "output_type": "stream",
          "name": "stderr",
          "text": [
            "/tmp/ipython-input-3147935641.py:3: UserWarning: To copy construct from a tensor, it is recommended to use sourceTensor.detach().clone() or sourceTensor.detach().clone().requires_grad_(True), rather than torch.tensor(sourceTensor).\n",
            "  y_train     = torch.tensor(y_train.squeeze(), dtype=torch.long, device=device)\n",
            "/tmp/ipython-input-3147935641.py:4: UserWarning: To copy construct from a tensor, it is recommended to use sourceTensor.detach().clone() or sourceTensor.detach().clone().requires_grad_(True), rather than torch.tensor(sourceTensor).\n",
            "  y_test      = torch.tensor(y_test.squeeze(), dtype=torch.long, device=device)\n"
          ]
        },
        {
          "output_type": "stream",
          "name": "stdout",
          "text": [
            "Epoch [1/60] - Loss: 2.0887 - Acc: 0.2080\n",
            "Epoch [2/60] - Loss: 1.8124 - Acc: 0.3270\n",
            "Epoch [3/60] - Loss: 1.6761 - Acc: 0.3718\n",
            "Epoch [4/60] - Loss: 1.5726 - Acc: 0.4062\n",
            "Epoch [5/60] - Loss: 1.4813 - Acc: 0.4512\n",
            "Epoch [6/60] - Loss: 1.3982 - Acc: 0.4850\n",
            "Epoch [7/60] - Loss: 1.3236 - Acc: 0.5128\n",
            "Epoch [8/60] - Loss: 1.2424 - Acc: 0.5498\n",
            "Epoch [9/60] - Loss: 1.1737 - Acc: 0.5678\n",
            "Epoch [10/60] - Loss: 1.1132 - Acc: 0.5864\n",
            "Epoch [11/60] - Loss: 1.0384 - Acc: 0.6174\n",
            "Epoch [12/60] - Loss: 0.9690 - Acc: 0.6446\n",
            "Epoch [13/60] - Loss: 0.9323 - Acc: 0.6622\n",
            "Epoch [14/60] - Loss: 0.8166 - Acc: 0.6994\n",
            "Epoch [15/60] - Loss: 0.7367 - Acc: 0.7306\n",
            "Epoch [16/60] - Loss: 0.6707 - Acc: 0.7526\n",
            "Epoch [17/60] - Loss: 0.6015 - Acc: 0.7832\n",
            "Epoch [18/60] - Loss: 0.5226 - Acc: 0.8102\n",
            "Epoch [19/60] - Loss: 0.4439 - Acc: 0.8408\n",
            "Epoch [20/60] - Loss: 0.4509 - Acc: 0.8342\n",
            "Epoch [21/60] - Loss: 0.3484 - Acc: 0.8756\n",
            "Epoch [22/60] - Loss: 0.2943 - Acc: 0.8976\n",
            "Epoch [23/60] - Loss: 0.2266 - Acc: 0.9242\n",
            "Epoch [24/60] - Loss: 0.1893 - Acc: 0.9374\n",
            "Epoch [25/60] - Loss: 0.1972 - Acc: 0.9308\n",
            "Epoch [26/60] - Loss: 0.1266 - Acc: 0.9580\n",
            "Epoch [27/60] - Loss: 0.1342 - Acc: 0.9548\n",
            "Epoch [28/60] - Loss: 0.1461 - Acc: 0.9514\n",
            "Epoch [29/60] - Loss: 0.1185 - Acc: 0.9584\n",
            "Epoch [30/60] - Loss: 0.1038 - Acc: 0.9674\n",
            "Epoch [31/60] - Loss: 0.0712 - Acc: 0.9774\n",
            "Epoch [32/60] - Loss: 0.0729 - Acc: 0.9770\n",
            "Epoch [33/60] - Loss: 0.0607 - Acc: 0.9824\n",
            "Epoch [34/60] - Loss: 0.0684 - Acc: 0.9790\n",
            "Epoch [35/60] - Loss: 0.0723 - Acc: 0.9766\n",
            "Epoch [36/60] - Loss: 0.0917 - Acc: 0.9708\n",
            "Epoch [37/60] - Loss: 0.0993 - Acc: 0.9682\n",
            "Epoch [38/60] - Loss: 0.0900 - Acc: 0.9680\n",
            "Epoch [39/60] - Loss: 0.0516 - Acc: 0.9820\n",
            "Epoch [40/60] - Loss: 0.0626 - Acc: 0.9788\n",
            "Epoch [41/60] - Loss: 0.0535 - Acc: 0.9820\n",
            "Epoch [42/60] - Loss: 0.0424 - Acc: 0.9862\n",
            "Epoch [43/60] - Loss: 0.0394 - Acc: 0.9866\n",
            "Epoch [44/60] - Loss: 0.0497 - Acc: 0.9846\n",
            "Epoch [45/60] - Loss: 0.0512 - Acc: 0.9816\n",
            "Epoch [46/60] - Loss: 0.0562 - Acc: 0.9834\n",
            "Epoch [47/60] - Loss: 0.0463 - Acc: 0.9828\n",
            "Epoch [48/60] - Loss: 0.0600 - Acc: 0.9782\n",
            "Epoch [49/60] - Loss: 0.0446 - Acc: 0.9848\n",
            "Epoch [50/60] - Loss: 0.0445 - Acc: 0.9868\n",
            "Epoch [51/60] - Loss: 0.0324 - Acc: 0.9894\n",
            "Epoch [52/60] - Loss: 0.0346 - Acc: 0.9892\n",
            "Epoch [53/60] - Loss: 0.0322 - Acc: 0.9896\n",
            "Epoch [54/60] - Loss: 0.0310 - Acc: 0.9894\n",
            "Epoch [55/60] - Loss: 0.0761 - Acc: 0.9754\n",
            "Epoch [56/60] - Loss: 0.0757 - Acc: 0.9748\n",
            "Epoch [57/60] - Loss: 0.0602 - Acc: 0.9798\n",
            "Epoch [58/60] - Loss: 0.0393 - Acc: 0.9872\n",
            "Epoch [59/60] - Loss: 0.0230 - Acc: 0.9926\n",
            "Epoch [60/60] - Loss: 0.1076 - Acc: 0.9652\n",
            "\n",
            "Test Accuracy: 0.5370\n"
          ]
        },
        {
          "output_type": "display_data",
          "data": {
            "text/plain": [
              "<Figure size 800x600 with 2 Axes>"
            ],
            "image/png": "[encoded data removed]"
          },
          "metadata": {}
        },
        {
          "output_type": "stream",
          "name": "stdout",
          "text": [
            "\n",
            "Classification Report of RGB image:\n",
            "              precision    recall  f1-score   support\n",
            "\n",
            "           0     0.5104    0.5444    0.5269        90\n",
            "           1     0.7262    0.6778    0.7011        90\n",
            "           2     0.4079    0.2925    0.3407       106\n",
            "           3     0.3438    0.3300    0.3367       100\n",
            "           4     0.5000    0.4951    0.4976       103\n",
            "           5     0.4237    0.4673    0.4444       107\n",
            "           6     0.5603    0.6373    0.5963       102\n",
            "           7     0.6262    0.6321    0.6291       106\n",
            "           8     0.6311    0.6633    0.6468        98\n",
            "           9     0.6373    0.6633    0.6500        98\n",
            "\n",
            "    accuracy                         0.5370      1000\n",
            "   macro avg     0.5367    0.5403    0.5370      1000\n",
            "weighted avg     0.5336    0.5370    0.5337      1000\n",
            "\n"
          ]
        }
      ]
    },
    {
      "cell_type": "markdown",
      "source": [
        "###10. Use the next markup to write down your observations and reasonings on the performances of the models"
      ],
      "metadata": {
        "id": "u1TXbZEyUr2a"
      }
    },
    {
      "cell_type": "markdown",
      "source": [
        "Observations -\n",
        "\n",
        "Logistic regressor: The cifar10 is a very noisy dataset. Also the data is very complex to learn Logistic regressor.\n",
        "\n",
        "Grey Scale CNN: We got a better result after applying CNN. Grey scale reduces the actual channels and stll giving low accuracy.\n",
        "\n",
        "RGB CNN: RGB input channels demonstrated accuracy improvements, yet the model's performance stagnated due to noisy dataset limitations.\n",
        "\n",
        "RGB CNN with extra conv: We expected to increase accuracy after increasing a convolution layer. But it decreased. Vanishing gradient, overfitting and optimization difficulty could be reasons of reducing accuracy."
      ],
      "metadata": {
        "id": "nTC63sXOU0Uo"
      }
    }
  ]
}